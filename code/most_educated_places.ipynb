{
 "cells": [
  {
   "cell_type": "markdown",
   "metadata": {
    "collapsed": true
   },
   "source": [
    "# Description of problem"
   ]
  },
  {
   "cell_type": "markdown",
   "metadata": {},
   "source": [
    "Things.\n",
    "\n",
    "stuff.\n",
    "\n",
    "http://www.businessinsider.com/most-educated-places-map-2014-9\n",
    "\n",
    "https://www.census.gov/geo/maps-data/data/tiger/char_encoding.html"
   ]
  },
  {
   "cell_type": "markdown",
   "metadata": {
    "collapsed": true
   },
   "source": [
    "# Setup"
   ]
  },
  {
   "cell_type": "code",
   "execution_count": null,
   "metadata": {
    "collapsed": false
   },
   "outputs": [],
   "source": [
    "%matplotlib inline"
   ]
  },
  {
   "cell_type": "code",
   "execution_count": null,
   "metadata": {
    "collapsed": false
   },
   "outputs": [],
   "source": [
    "import matplotlib.pyplot as plt\n",
    "import numpy as np\n",
    "import pandas as pd\n",
    "import requests\n",
    "import seaborn as sns\n",
    "import us"
   ]
  },
  {
   "cell_type": "markdown",
   "metadata": {},
   "source": [
    "# Read data"
   ]
  },
  {
   "cell_type": "code",
   "execution_count": null,
   "metadata": {
    "collapsed": true
   },
   "outputs": [],
   "source": [
    "def state_and_place(df):\n",
    "    columns = (\n",
    "        df\n",
    "        .id\n",
    "        .astype(str)\n",
    "        .str.extract('(?P<state_fips>\\d{1,2})(?P<place_fips>\\d{5})', expand=True)\n",
    "        .astype(int)\n",
    "    )\n",
    "    return df.join(columns)"
   ]
  },
  {
   "cell_type": "code",
   "execution_count": null,
   "metadata": {
    "collapsed": false
   },
   "outputs": [],
   "source": [
    "def read_acs(year):\n",
    "    filename = '../data/ACS_{year}_5YR_S1501/ACS_{year}_5YR_S1501_with_ann.csv'.format(year=str(year)[-2:])\n",
    "    na_values = ('**', '-', '+', '***', '*****', 'N', '(X)')\n",
    "\n",
    "    variables = {\n",
    "        'Id2': 'id',\n",
    "        'Geography': 'place',\n",
    "        \"Total; Estimate; Percent bachelor's degree or higher\": 'pct_bachelor_plus',\n",
    "        \"Total; Margin of Error; Percent bachelor's degree or higher\": 'pct_bachelor_plus_moe'\n",
    "    }\n",
    "    \n",
    "    return (\n",
    "        pd\n",
    "        .read_csv(\n",
    "            filename,\n",
    "            usecols=variables.keys(),\n",
    "            na_values=na_values,\n",
    "            encoding='ISO-8859-1',\n",
    "            skiprows=1\n",
    "        )\n",
    "        .rename(columns=variables)\n",
    "        .pipe(state_and_place)\n",
    "        .drop('id', axis=1)\n",
    "        .set_index(['state_fips', 'place_fips'])\n",
    "    )"
   ]
  },
  {
   "cell_type": "code",
   "execution_count": null,
   "metadata": {
    "collapsed": true
   },
   "outputs": [],
   "source": [
    "def read_population(year):\n",
    "    url = 'http://api.census.gov/data/{}/acs5?get=B01003_001E,B01003_001M&for=place:*'.format(year)\n",
    "    r = requests.get(url)\n",
    "    data = r.json()\n",
    "    \n",
    "    columns = {\n",
    "        'B01003_001E': 'population',\n",
    "        'B01003_001M': 'population_moe',\n",
    "        'state': 'state_fips',\n",
    "        'place': 'place_fips'\n",
    "    }\n",
    "    \n",
    "    return (\n",
    "        pd.DataFrame(data=data[1:], columns=data[0])\n",
    "        .rename(columns=columns)\n",
    "        .apply(lambda s: s.astype(int))\n",
    "        .set_index(['state_fips', 'place_fips'])\n",
    "    )"
   ]
  },
  {
   "cell_type": "code",
   "execution_count": null,
   "metadata": {
    "collapsed": true
   },
   "outputs": [],
   "source": [
    "def state(df):\n",
    "    data = (\n",
    "        df\n",
    "        .index\n",
    "        .get_level_values('state_fips')\n",
    "        .astype(str)\n",
    "        .str.rjust(2, fillchar='0')\n",
    "    )\n",
    "    s = pd.Series(data=data, index=df.index)\n",
    "    \n",
    "    return s.apply(lambda x: us.states.lookup(x).name)"
   ]
  },
  {
   "cell_type": "code",
   "execution_count": null,
   "metadata": {
    "collapsed": true
   },
   "outputs": [],
   "source": [
    "def read_data(year):\n",
    "    acs = read_acs(year)\n",
    "    population = read_population(year)\n",
    "    \n",
    "    return (\n",
    "        acs\n",
    "        .join(population)\n",
    "        .assign(state=state)\n",
    "        .set_index(['state', 'place'])\n",
    "        .sort_index(axis=1)\n",
    "    )"
   ]
  },
  {
   "cell_type": "code",
   "execution_count": null,
   "metadata": {
    "collapsed": false
   },
   "outputs": [],
   "source": [
    "df = read_data(2012)"
   ]
  },
  {
   "cell_type": "markdown",
   "metadata": {},
   "source": [
    "# Let's check out the dataset"
   ]
  },
  {
   "cell_type": "code",
   "execution_count": null,
   "metadata": {
    "collapsed": false
   },
   "outputs": [],
   "source": [
    "df.info()"
   ]
  },
  {
   "cell_type": "code",
   "execution_count": null,
   "metadata": {
    "collapsed": false
   },
   "outputs": [],
   "source": [
    "df.head()"
   ]
  },
  {
   "cell_type": "code",
   "execution_count": null,
   "metadata": {
    "collapsed": false
   },
   "outputs": [],
   "source": [
    "df.tail()"
   ]
  },
  {
   "cell_type": "code",
   "execution_count": null,
   "metadata": {
    "collapsed": false
   },
   "outputs": [],
   "source": [
    "df.dropna().describe()"
   ]
  },
  {
   "cell_type": "markdown",
   "metadata": {},
   "source": [
    "# Population vs. Attainment"
   ]
  },
  {
   "cell_type": "code",
   "execution_count": null,
   "metadata": {
    "collapsed": false
   },
   "outputs": [],
   "source": [
    "sns.jointplot('population', 'pct_bachelor_plus', data=df);"
   ]
  },
  {
   "cell_type": "markdown",
   "metadata": {},
   "source": [
    "# Recreating the original metric"
   ]
  },
  {
   "cell_type": "code",
   "execution_count": null,
   "metadata": {
    "collapsed": true
   },
   "outputs": [],
   "source": [
    "def highest_attainment_orig(df):\n",
    "    # Only include places with at least 1,000 people\n",
    "    subset = df.loc[df.population > 1000]\n",
    "    # Find the place with the higehst attainment by state\n",
    "    idx = (\n",
    "        subset\n",
    "        .groupby(level='state')\n",
    "        .pct_bachelor_plus\n",
    "        .transform('max')\n",
    "        .eq(subset.pct_bachelor_plus)\n",
    "    )\n",
    "    \n",
    "    return subset.loc[idx].sort_values('pct_bachelor_plus', ascending=False)"
   ]
  },
  {
   "cell_type": "markdown",
   "metadata": {},
   "source": [
    " Note about how results don't match. Probe into whether they dropped universities"
   ]
  },
  {
   "cell_type": "code",
   "execution_count": null,
   "metadata": {
    "collapsed": false
   },
   "outputs": [],
   "source": [
    "df.pipe(highest_attainment_orig).population.max()"
   ]
  },
  {
   "cell_type": "code",
   "execution_count": null,
   "metadata": {
    "collapsed": false,
    "scrolled": true
   },
   "outputs": [],
   "source": [
    "ax = df.plot.scatter('population', 'pct_bachelor_plus', xlim=(0, 700000))\n",
    "df.pipe(highest_attainment_orig).plot.scatter('population', 'pct_bachelor_plus', ax=ax, c='red');"
   ]
  },
  {
   "cell_type": "markdown",
   "metadata": {
    "collapsed": true
   },
   "source": [
    "# The Problem: Uncertainty"
   ]
  },
  {
   "cell_type": "markdown",
   "metadata": {
    "collapsed": true
   },
   "source": [
    "Something something error. Lift language from Bayesian Inference for Hackers (and attribute appropriately)"
   ]
  },
  {
   "cell_type": "markdown",
   "metadata": {
    "collapsed": true
   },
   "source": [
    "# Doing it the right way"
   ]
  },
  {
   "cell_type": "code",
   "execution_count": null,
   "metadata": {
    "collapsed": true
   },
   "outputs": [],
   "source": [
    "def lower_bound(df, column):\n",
    "    lower = df[column] - df['{}_moe'.format(column)]\n",
    "    # Minimum value is 0\n",
    "    lower.loc[lower < 0] = 0\n",
    "    \n",
    "    return lower"
   ]
  },
  {
   "cell_type": "code",
   "execution_count": null,
   "metadata": {
    "collapsed": true
   },
   "outputs": [],
   "source": [
    "def add_lower_bounds(df):\n",
    "    return (\n",
    "        df\n",
    "        .assign(\n",
    "            population_lower=lambda df: df.pipe(lower_bound, 'population'),\n",
    "            pct_bachelor_plus_lower=lambda df: df.pipe(lower_bound, 'pct_bachelor_plus')\n",
    "        )\n",
    "    )"
   ]
  },
  {
   "cell_type": "code",
   "execution_count": null,
   "metadata": {
    "collapsed": false,
    "scrolled": true
   },
   "outputs": [],
   "source": [
    "df = df.pipe(add_lower_bounds)"
   ]
  },
  {
   "cell_type": "code",
   "execution_count": null,
   "metadata": {
    "collapsed": false,
    "scrolled": true
   },
   "outputs": [],
   "source": [
    "df.head()"
   ]
  },
  {
   "cell_type": "code",
   "execution_count": null,
   "metadata": {
    "collapsed": false
   },
   "outputs": [],
   "source": [
    "sns.jointplot('population', 'pct_bachelor_plus_lower', data=df);"
   ]
  },
  {
   "cell_type": "code",
   "execution_count": null,
   "metadata": {
    "collapsed": true
   },
   "outputs": [],
   "source": [
    "def highest_attainment(df):\n",
    "    # Find the place with the higehst attainment by state, using the lower bound\n",
    "    idx = (\n",
    "        df\n",
    "        .groupby(level='state')\n",
    "        .pct_bachelor_plus_lower\n",
    "        .transform('max')\n",
    "        .eq(df.pct_bachelor_plus_lower)\n",
    "    )\n",
    "    \n",
    "    return (\n",
    "        df\n",
    "        .loc[idx]\n",
    "        .sort_values('pct_bachelor_plus_lower', ascending=False)\n",
    "    )"
   ]
  },
  {
   "cell_type": "code",
   "execution_count": null,
   "metadata": {
    "collapsed": false
   },
   "outputs": [],
   "source": [
    "test = df.pipe(highest_attainment_orig).sort_values('pct_bachelor_plus')\n",
    "plt.figure(figsize=(16, 10))\n",
    "plt.errorbar(test.pct_bachelor_plus, np.arange(len(test)), xerr=test.pct_bachelor_plus_moe, fmt='o')\n",
    "plt.xlim(0, 100)\n",
    "plt.ylim(-1, len(test))\n",
    "plt.yticks(np.arange(len(test)), test.index.get_level_values('place'));"
   ]
  },
  {
   "cell_type": "code",
   "execution_count": null,
   "metadata": {
    "collapsed": false
   },
   "outputs": [],
   "source": [
    "test2 = df.loc['New York'].sort_values('pct_bachelor_plus_lower', na_position='first').tail(10)\n",
    "plt.errorbar(test2.pct_bachelor_plus, np.arange(len(test2)), xerr=test2.pct_bachelor_plus_moe, fmt='o')\n",
    "plt.xlim(0, 100)\n",
    "plt.ylim(-1, len(test2))\n",
    "plt.yticks(np.arange(len(test2)), test2.index.get_level_values('place'));"
   ]
  },
  {
   "cell_type": "code",
   "execution_count": null,
   "metadata": {
    "collapsed": true
   },
   "outputs": [],
   "source": []
  }
 ],
 "metadata": {
  "anaconda-cloud": {},
  "kernelspec": {
   "display_name": "Python [Root]",
   "language": "python",
   "name": "Python [Root]"
  },
  "language_info": {
   "codemirror_mode": {
    "name": "ipython",
    "version": 3
   },
   "file_extension": ".py",
   "mimetype": "text/x-python",
   "name": "python",
   "nbconvert_exporter": "python",
   "pygments_lexer": "ipython3",
   "version": "3.5.1"
  }
 },
 "nbformat": 4,
 "nbformat_minor": 0
}
