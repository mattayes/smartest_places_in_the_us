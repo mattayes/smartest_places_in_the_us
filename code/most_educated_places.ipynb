{
 "cells": [
  {
   "cell_type": "markdown",
   "metadata": {
    "collapsed": true
   },
   "source": [
    "# Setup"
   ]
  },
  {
   "cell_type": "code",
   "execution_count": null,
   "metadata": {
    "collapsed": false
   },
   "outputs": [],
   "source": [
    "%matplotlib inline"
   ]
  },
  {
   "cell_type": "code",
   "execution_count": null,
   "metadata": {
    "collapsed": false
   },
   "outputs": [],
   "source": [
    "from os.path import exists\n",
    "\n",
    "import numpy as np\n",
    "import pandas as pd\n",
    "import requests\n",
    "import seaborn as sns"
   ]
  },
  {
   "cell_type": "markdown",
   "metadata": {},
   "source": [
    "# Checking existing findings\n",
    "http://www.businessinsider.com/most-educated-places-map-2014-9"
   ]
  },
  {
   "cell_type": "code",
   "execution_count": null,
   "metadata": {
    "collapsed": true
   },
   "outputs": [],
   "source": [
    "base_url = 'http://api.census.gov/data/2012/acs5?get={}&for=place:*'\n",
    "\n",
    "variables_old = {\n",
    "    'NAME': 'place_name',\n",
    "    'B01003_001E': 'population',\n",
    "    'B15003_001E': 'population_over_25',\n",
    "    'B15003_022E': 'bachelor',\n",
    "    'B15003_023E': 'masters',\n",
    "    'B15003_024E': 'professional',\n",
    "    'B15003_025E': 'doctorate'\n",
    "}"
   ]
  },
  {
   "cell_type": "code",
   "execution_count": null,
   "metadata": {
    "collapsed": true
   },
   "outputs": [],
   "source": [
    "def read_census(url):\n",
    "    r = requests.get(url)\n",
    "    data = r.json()\n",
    "    return pd.DataFrame(data=data[1:], columns=data[0], dtype=int)"
   ]
  },
  {
   "cell_type": "markdown",
   "metadata": {},
   "source": [
    "# Read data"
   ]
  },
  {
   "cell_type": "code",
   "execution_count": null,
   "metadata": {
    "collapsed": false
   },
   "outputs": [],
   "source": [
    "url = base_url.format(','.join(variables_old))\n",
    "df_orig = (\n",
    "    read_census(url)\n",
    "    .rename(columns=variables_old)\n",
    "    .sort_index(axis=1)\n",
    ")"
   ]
  },
  {
   "cell_type": "code",
   "execution_count": null,
   "metadata": {
    "collapsed": false
   },
   "outputs": [],
   "source": [
    "df_orig.head()"
   ]
  },
  {
   "cell_type": "markdown",
   "metadata": {},
   "source": [
    "# Determine bachelor+ attainment rate"
   ]
  },
  {
   "cell_type": "code",
   "execution_count": null,
   "metadata": {
    "collapsed": false
   },
   "outputs": [],
   "source": [
    "def bachelor_plus(df):\n",
    "    return df[['bachelor', 'masters', 'professional', 'doctorate']].sum(axis=1)"
   ]
  },
  {
   "cell_type": "code",
   "execution_count": null,
   "metadata": {
    "collapsed": true
   },
   "outputs": [],
   "source": [
    "def pct_bachelor_plus(df):\n",
    "    return df.bachelor_plus / df.population_over_25"
   ]
  },
  {
   "cell_type": "code",
   "execution_count": null,
   "metadata": {
    "collapsed": false
   },
   "outputs": [],
   "source": [
    "pbp_orig = (\n",
    "    df_orig\n",
    "    .assign(bachelor_plus=bachelor_plus)\n",
    "    .assign(pct_bachelor_plus=pct_bachelor_plus)\n",
    ")"
   ]
  },
  {
   "cell_type": "code",
   "execution_count": null,
   "metadata": {
    "collapsed": false
   },
   "outputs": [],
   "source": [
    "pbp_orig.plot.scatter('population_over_25', 'pct_bachelor_plus');"
   ]
  },
  {
   "cell_type": "code",
   "execution_count": null,
   "metadata": {
    "collapsed": false
   },
   "outputs": [],
   "source": [
    "highest_by_state_orig = (\n",
    "    pbp_orig\n",
    "    .loc[lambda df: df.population > 1000, :]\n",
    "    .sort_values('pct_bachelor_plus', ascending=False)\n",
    "    .groupby('state')\n",
    "    .first()\n",
    "    .sort_values('pct_bachelor_plus', ascending=False)\n",
    ")"
   ]
  },
  {
   "cell_type": "code",
   "execution_count": null,
   "metadata": {
    "collapsed": false
   },
   "outputs": [],
   "source": [
    "highest_by_state_orig[['place_name', 'pct_bachelor_plus']].head()"
   ]
  },
  {
   "cell_type": "code",
   "execution_count": null,
   "metadata": {
    "collapsed": false
   },
   "outputs": [],
   "source": [
    "ax = pbp_orig.plot.scatter('population_over_25', 'pct_bachelor_plus', alpha=0.01, xlim=0)\n",
    "highest_by_state_orig.plot.scatter('population_over_25', 'pct_bachelor_plus', color='red', ax=ax);"
   ]
  },
  {
   "cell_type": "markdown",
   "metadata": {},
   "source": [
    "# Doing things the right way"
   ]
  },
  {
   "cell_type": "code",
   "execution_count": null,
   "metadata": {
    "collapsed": true
   },
   "outputs": [],
   "source": [
    "na_values = ('**', '-', '***', '*****', 'N', '(X)')\n",
    "\n",
    "base_variables = {\n",
    "    'HC01_{}_VC07': 'population_over_25',\n",
    "    'HC01_{}_VC13': 'pct_bachelor',\n",
    "    'HC01_{}_VC14': 'pct_graduate_or_professional'\n",
    "}\n",
    "\n",
    "estimate_variables = {var.format('EST'): name for var, name in base_variables.items()}\n",
    "moe_variables = {var.format('MOE'): '{}_moe'.format(name) for var, name in base_variables.items()}\n",
    "variables = {\n",
    "    **{'GEO.id2': 'state_and_place', 'GEO.display-label': 'place_name'},\n",
    "    **estimate_variables,\n",
    "    **moe_variables\n",
    "}\n",
    "\n",
    "dtypes = {\n",
    "    key: np.float16\n",
    "    for key in variables\n",
    "    if key.startswith('HC01_')\n",
    "}"
   ]
  },
  {
   "cell_type": "code",
   "execution_count": null,
   "metadata": {
    "collapsed": false
   },
   "outputs": [],
   "source": [
    "def read_acs(year):\n",
    "    filename = '../data/ACS_{year}_5YR_S1501/ACS_{year}_5YR_S1501_with_ann.csv'.format(year=str(year)[-2:])\n",
    "    return (\n",
    "        pd\n",
    "        .read_csv(\n",
    "            filename,\n",
    "            usecols=variables.keys(),\n",
    "            dtype=dtypes,\n",
    "            na_values=na_values,\n",
    "            encoding='latin1'\n",
    "        )\n",
    "        .rename(columns=variables)\n",
    ")"
   ]
  },
  {
   "cell_type": "code",
   "execution_count": null,
   "metadata": {
    "collapsed": false
   },
   "outputs": [],
   "source": [
    "df_12 = read_acs(2012)"
   ]
  },
  {
   "cell_type": "code",
   "execution_count": null,
   "metadata": {
    "collapsed": false
   },
   "outputs": [],
   "source": [
    "df_12.population_over_25.value_counts()"
   ]
  },
  {
   "cell_type": "code",
   "execution_count": null,
   "metadata": {
    "collapsed": false
   },
   "outputs": [],
   "source": [
    "df_12.dtypes"
   ]
  },
  {
   "cell_type": "code",
   "execution_count": null,
   "metadata": {
    "collapsed": true
   },
   "outputs": [],
   "source": [
    "def state_and_place(df):\n",
    "    state_and_place_str = df.state_and_place.astype(str).str.rjust(7)\n",
    "    \n",
    "    state = state_and_place_str.str[:2].astype(int).rename('state')\n",
    "    place = state_and_place_str.str[2:].astype(int).rename('place')\n",
    "    \n",
    "    return df.join(state).join(place)"
   ]
  },
  {
   "cell_type": "code",
   "execution_count": null,
   "metadata": {
    "collapsed": false
   },
   "outputs": [],
   "source": [
    "def add_standard_error(df):\n",
    "    \"\"\"Add standard error columns\"\"\"\n",
    "    ses = (\n",
    "        df\n",
    "        .filter(regex='_moe$', axis=1)\n",
    "        .pipe(lambda df: df / 1.645)\n",
    "        .rename(columns=lambda x: x[:-3] + 'se')\n",
    "    )\n",
    "    return df.join(ses)"
   ]
  },
  {
   "cell_type": "code",
   "execution_count": null,
   "metadata": {
    "collapsed": true
   },
   "outputs": [],
   "source": [
    "def pct_bachelor_plus(df):\n",
    "    return df.pct_bachelor + df.pct_graduate_or_professional"
   ]
  },
  {
   "cell_type": "code",
   "execution_count": null,
   "metadata": {
    "collapsed": true
   },
   "outputs": [],
   "source": [
    "def pct_bachelor_plus_se(df):\n",
    "    return (\n",
    "        df\n",
    "        [['pct_bachelor_se', 'pct_graduate_or_professional_se']]\n",
    "        .pipe(np.square)\n",
    "        .sum(axis=1)\n",
    "        .pipe(np.sqrt)\n",
    "    )"
   ]
  },
  {
   "cell_type": "code",
   "execution_count": null,
   "metadata": {
    "collapsed": true
   },
   "outputs": [],
   "source": [
    "def population_over_25_lower(df):\n",
    "    lower = df.population_over_25 - df.population_over_25_moe\n",
    "    lower[lower < 0] = 0\n",
    "    return lower"
   ]
  },
  {
   "cell_type": "code",
   "execution_count": null,
   "metadata": {
    "collapsed": true
   },
   "outputs": [],
   "source": [
    "def pct_bachelor_plus_lower(df):\n",
    "    moe = df.pct_bachelor_plus_se * 1.645\n",
    "    lower = df.pct_bachelor_plus - moe\n",
    "    # Set minimum of 0\n",
    "    lower.loc[lower < 0] = 0\n",
    "    \n",
    "    return lower"
   ]
  },
  {
   "cell_type": "code",
   "execution_count": null,
   "metadata": {
    "collapsed": true
   },
   "outputs": [],
   "source": [
    "def make_pbp(df):\n",
    "    return (\n",
    "        df\n",
    "        .pipe(state_and_place)\n",
    "        .pipe(add_standard_error)\n",
    "        .assign(\n",
    "            pct_bachelor_plus=pct_bachelor_plus,\n",
    "            pct_bachelor_plus_se=pct_bachelor_plus_se\n",
    "        )\n",
    "        .assign(\n",
    "            population_over_25_lower=population_over_25_lower,\n",
    "            pct_bachelor_plus_lower=pct_bachelor_plus_lower\n",
    "        )\n",
    "    )"
   ]
  },
  {
   "cell_type": "code",
   "execution_count": null,
   "metadata": {
    "collapsed": false,
    "scrolled": true
   },
   "outputs": [],
   "source": [
    "pbp_12 = df_12.pipe(make_pbp)"
   ]
  },
  {
   "cell_type": "code",
   "execution_count": null,
   "metadata": {
    "collapsed": false
   },
   "outputs": [],
   "source": [
    "pbp_12.head()"
   ]
  },
  {
   "cell_type": "code",
   "execution_count": null,
   "metadata": {
    "collapsed": false
   },
   "outputs": [],
   "source": [
    "pbp_12.plot.scatter('population_over_25_lower', 'pct_bachelor_plus_lower');"
   ]
  },
  {
   "cell_type": "code",
   "execution_count": null,
   "metadata": {
    "collapsed": true
   },
   "outputs": [],
   "source": [
    "def make_hbs(df):\n",
    "    return (\n",
    "        df\n",
    "        .sort_values('pct_bachelor_plus_lower', ascending=False)\n",
    "        .groupby('state')\n",
    "        .first()\n",
    "        .sort_values('pct_bachelor_plus_lower', ascending=False)\n",
    "    )"
   ]
  },
  {
   "cell_type": "code",
   "execution_count": null,
   "metadata": {
    "collapsed": false
   },
   "outputs": [],
   "source": [
    "hbs_12 = make_hbs(pbp_12)"
   ]
  },
  {
   "cell_type": "code",
   "execution_count": null,
   "metadata": {
    "collapsed": false
   },
   "outputs": [],
   "source": [
    "hbs_12.head()"
   ]
  },
  {
   "cell_type": "code",
   "execution_count": null,
   "metadata": {
    "collapsed": false
   },
   "outputs": [],
   "source": [
    "ax = pbp_12.plot.scatter('population_over_25_lower', 'pct_bachelor_plus_lower', alpha=0.1)\n",
    "hbs_12.plot.scatter('population_over_25_lower', 'pct_bachelor_plus_lower', ax=ax, color='red');"
   ]
  },
  {
   "cell_type": "code",
   "execution_count": null,
   "metadata": {
    "collapsed": false
   },
   "outputs": [],
   "source": [
    "pbp_12.describe()"
   ]
  },
  {
   "cell_type": "code",
   "execution_count": null,
   "metadata": {
    "collapsed": false
   },
   "outputs": [],
   "source": [
    "sns.jointplot('population_over_25_lower', 'pct_bachelor_plus_lower', data=pbp_12)"
   ]
  },
  {
   "cell_type": "code",
   "execution_count": null,
   "metadata": {
    "collapsed": true
   },
   "outputs": [],
   "source": []
  }
 ],
 "metadata": {
  "kernelspec": {
   "display_name": "Python 3",
   "language": "python",
   "name": "python3"
  },
  "language_info": {
   "codemirror_mode": {
    "name": "ipython",
    "version": 3
   },
   "file_extension": ".py",
   "mimetype": "text/x-python",
   "name": "python",
   "nbconvert_exporter": "python",
   "pygments_lexer": "ipython3",
   "version": "3.5.1"
  }
 },
 "nbformat": 4,
 "nbformat_minor": 0
}
